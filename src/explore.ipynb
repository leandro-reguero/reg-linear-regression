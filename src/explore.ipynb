{
    "cells": [
        {
            "cell_type": "markdown",
            "metadata": {},
            "source": [
                "# Explore here"
            ]
        },
        {
            "cell_type": "code",
            "execution_count": 1,
            "metadata": {},
            "outputs": [],
            "source": [
                "# Your code here\n",
                "\n",
                "import pandas as pd\n",
                "import numpy as np\n",
                "import matplotlib.pyplot as plt\n"
            ]
        },
        {
            "cell_type": "code",
            "execution_count": 5,
            "metadata": {},
            "outputs": [
                {
                    "name": "stdout",
                    "output_type": "stream",
                    "text": [
                        "   fips  TOT_POP    0-9  0-9 y/o % of total pop  19-Oct  \\\n",
                        "0  1001    55601   6787               12.206615    7637   \n",
                        "1  1003   218022  24757               11.355276   26913   \n",
                        "2  1005    24881   2732               10.980266    2960   \n",
                        "3  1007    22400   2456               10.964286    2596   \n",
                        "4  1009    57840   7095               12.266598    7570   \n",
                        "\n",
                        "   10-19 y/o % of total pop  20-29  20-29 y/o % of total pop  30-39  \\\n",
                        "0                 13.735364   6878                 12.370281   7089   \n",
                        "1                 12.344167  23579                 10.814964  25213   \n",
                        "2                 11.896628   3268                 13.134520   3201   \n",
                        "3                 11.589286   3029                 13.522321   3113   \n",
                        "4                 13.087828   6742                 11.656293   6884   \n",
                        "\n",
                        "   30-39 y/o % of total pop  ...  COPD_number  diabetes_prevalence  \\\n",
                        "0                 12.749771  ...         3644                 12.9   \n",
                        "1                 11.564429  ...        14692                 12.0   \n",
                        "2                 12.865239  ...         2373                 19.7   \n",
                        "3                 13.897321  ...         1789                 14.1   \n",
                        "4                 11.901798  ...         4661                 13.5   \n",
                        "\n",
                        "   diabetes_Lower 95% CI  diabetes_Upper 95% CI  diabetes_number  \\\n",
                        "0                   11.9                   13.8             5462   \n",
                        "1                   11.0                   13.1            20520   \n",
                        "2                   18.6                   20.6             3870   \n",
                        "3                   13.2                   14.9             2511   \n",
                        "4                   12.6                   14.5             6017   \n",
                        "\n",
                        "   CKD_prevalence  CKD_Lower 95% CI  CKD_Upper 95% CI  CKD_number  \\\n",
                        "0             3.1               2.9               3.3        1326   \n",
                        "1             3.2               3.0               3.5        5479   \n",
                        "2             4.5               4.2               4.8         887   \n",
                        "3             3.3               3.1               3.6         595   \n",
                        "4             3.4               3.2               3.7        1507   \n",
                        "\n",
                        "   Urban_rural_code  \n",
                        "0                 3  \n",
                        "1                 4  \n",
                        "2                 6  \n",
                        "3                 2  \n",
                        "4                 2  \n",
                        "\n",
                        "[5 rows x 108 columns]\n"
                    ]
                }
            ],
            "source": [
                "rawdata = pd.read_csv(\"https://raw.githubusercontent.com/4GeeksAcademy/regularized-linear-regression-project-tutorial/main/demographic_health_data.csv\")\n",
                "print(rawdata.head())\n",
                "\n",
                "rawdata.to_csv(r\"C:\\Users\\34616\\Documents\\4GEEKS\\clases\\clase19_RegresionLineal_regularizada\\reg-linear-regression\\data\\raw\\rawdata.csv\")\n",
                "\n"
            ]
        }
    ],
    "metadata": {
        "kernelspec": {
            "display_name": "Python 3.8.13 64-bit ('3.8.13')",
            "language": "python",
            "name": "python3"
        },
        "language_info": {
            "codemirror_mode": {
                "name": "ipython",
                "version": 3
            },
            "file_extension": ".py",
            "mimetype": "text/x-python",
            "name": "python",
            "nbconvert_exporter": "python",
            "pygments_lexer": "ipython3",
            "version": "3.11.1"
        },
        "orig_nbformat": 4,
        "vscode": {
            "interpreter": {
                "hash": "110cc1dee26208153f2972f08a2ad52b6a56238dc66d48e87fb757ef2996db56"
            }
        }
    },
    "nbformat": 4,
    "nbformat_minor": 2
}
